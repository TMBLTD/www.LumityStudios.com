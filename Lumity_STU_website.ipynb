{
 "cells": [
  {
   "cell_type": "code",
   "execution_count": null,
   "metadata": {
    "vscode": {
     "languageId": "html"
    }
   },
   "outputs": [],
   "source": [
    "<!DOCTYPE html>\n",
    "<html lang=\"en\">\n",
    "<head>\n",
    "    <meta charset=\"UTF-8\">\n",
    "    <meta name=\"viewport\"\n",
    "content=\"width=device-width,\n",
    "inititial-scale=1.0\">\n",
    "       <title>Lumity Studios</\n",
    "title>\n",
    "</head>\n",
    "     <h1> !We are hiring DM lovely_king to join the discord server!\n",
    "     </body>\n",
    "     </html>                "
   ]
  }
 ],
 "metadata": {
  "language_info": {
   "name": "python"
  }
 },
 "nbformat": 4,
 "nbformat_minor": 2
}
